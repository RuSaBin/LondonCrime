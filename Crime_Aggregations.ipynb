{
 "cells": [
  {
   "cell_type": "code",
   "execution_count": 2,
   "metadata": {
    "collapsed": true
   },
   "outputs": [],
   "source": [
    "import pandas as pd\n",
    "import numpy as np\n",
    "import matplotlib.pyplot as plt"
   ]
  },
  {
   "cell_type": "code",
   "execution_count": 3,
   "metadata": {
    "collapsed": true
   },
   "outputs": [],
   "source": [
    "crime_data = pd.read_csv('london_crime_by_lsoa.csv', encoding = 'utf-8', sep = \",\")"
   ]
  },
  {
   "cell_type": "code",
   "execution_count": 4,
   "metadata": {},
   "outputs": [
    {
     "data": {
      "text/html": [
       "<div>\n",
       "<style>\n",
       "    .dataframe thead tr:only-child th {\n",
       "        text-align: right;\n",
       "    }\n",
       "\n",
       "    .dataframe thead th {\n",
       "        text-align: left;\n",
       "    }\n",
       "\n",
       "    .dataframe tbody tr th {\n",
       "        vertical-align: top;\n",
       "    }\n",
       "</style>\n",
       "<table border=\"1\" class=\"dataframe\">\n",
       "  <thead>\n",
       "    <tr style=\"text-align: right;\">\n",
       "      <th></th>\n",
       "      <th>lsoa_code</th>\n",
       "      <th>borough</th>\n",
       "      <th>major_category</th>\n",
       "      <th>minor_category</th>\n",
       "      <th>value</th>\n",
       "      <th>year</th>\n",
       "      <th>month</th>\n",
       "    </tr>\n",
       "  </thead>\n",
       "  <tbody>\n",
       "    <tr>\n",
       "      <th>0</th>\n",
       "      <td>E01001116</td>\n",
       "      <td>Croydon</td>\n",
       "      <td>Burglary</td>\n",
       "      <td>Burglary in Other Buildings</td>\n",
       "      <td>0</td>\n",
       "      <td>2016</td>\n",
       "      <td>11</td>\n",
       "    </tr>\n",
       "    <tr>\n",
       "      <th>1</th>\n",
       "      <td>E01001646</td>\n",
       "      <td>Greenwich</td>\n",
       "      <td>Violence Against the Person</td>\n",
       "      <td>Other violence</td>\n",
       "      <td>0</td>\n",
       "      <td>2016</td>\n",
       "      <td>11</td>\n",
       "    </tr>\n",
       "    <tr>\n",
       "      <th>2</th>\n",
       "      <td>E01000677</td>\n",
       "      <td>Bromley</td>\n",
       "      <td>Violence Against the Person</td>\n",
       "      <td>Other violence</td>\n",
       "      <td>0</td>\n",
       "      <td>2015</td>\n",
       "      <td>5</td>\n",
       "    </tr>\n",
       "    <tr>\n",
       "      <th>3</th>\n",
       "      <td>E01003774</td>\n",
       "      <td>Redbridge</td>\n",
       "      <td>Burglary</td>\n",
       "      <td>Burglary in Other Buildings</td>\n",
       "      <td>0</td>\n",
       "      <td>2016</td>\n",
       "      <td>3</td>\n",
       "    </tr>\n",
       "    <tr>\n",
       "      <th>4</th>\n",
       "      <td>E01004563</td>\n",
       "      <td>Wandsworth</td>\n",
       "      <td>Robbery</td>\n",
       "      <td>Personal Property</td>\n",
       "      <td>0</td>\n",
       "      <td>2008</td>\n",
       "      <td>6</td>\n",
       "    </tr>\n",
       "  </tbody>\n",
       "</table>\n",
       "</div>"
      ],
      "text/plain": [
       "   lsoa_code     borough               major_category  \\\n",
       "0  E01001116     Croydon                     Burglary   \n",
       "1  E01001646   Greenwich  Violence Against the Person   \n",
       "2  E01000677     Bromley  Violence Against the Person   \n",
       "3  E01003774   Redbridge                     Burglary   \n",
       "4  E01004563  Wandsworth                      Robbery   \n",
       "\n",
       "                minor_category  value  year  month  \n",
       "0  Burglary in Other Buildings      0  2016     11  \n",
       "1               Other violence      0  2016     11  \n",
       "2               Other violence      0  2015      5  \n",
       "3  Burglary in Other Buildings      0  2016      3  \n",
       "4            Personal Property      0  2008      6  "
      ]
     },
     "execution_count": 4,
     "metadata": {},
     "output_type": "execute_result"
    }
   ],
   "source": [
    "crime_data.head()"
   ]
  },
  {
   "cell_type": "code",
   "execution_count": 6,
   "metadata": {},
   "outputs": [
    {
     "data": {
      "text/plain": [
       "Croydon                   602100\n",
       "Barnet                    572832\n",
       "Ealing                    549396\n",
       "Bromley                   523908\n",
       "Lambeth                   519048\n",
       "Enfield                   511164\n",
       "Wandsworth                498636\n",
       "Brent                     490644\n",
       "Lewisham                  485136\n",
       "Southwark                 483300\n",
       "Newham                    471420\n",
       "Redbridge                 445716\n",
       "Hillingdon                442584\n",
       "Greenwich                 421200\n",
       "Hackney                   417744\n",
       "Haringey                  413856\n",
       "Tower Hamlets             412128\n",
       "Waltham Forest            406296\n",
       "Havering                  399600\n",
       "Hounslow                  395928\n",
       "Bexley                    385668\n",
       "Camden                    378432\n",
       "Westminster               366660\n",
       "Harrow                    365688\n",
       "Islington                 359208\n",
       "Merton                    339876\n",
       "Hammersmith and Fulham    328752\n",
       "Sutton                    322488\n",
       "Barking and Dagenham      311040\n",
       "Richmond upon Thames      304128\n",
       "Kensington and Chelsea    296784\n",
       "Kingston upon Thames      259524\n",
       "City of London              9720\n",
       "Name: borough, dtype: int64"
      ]
     },
     "execution_count": 6,
     "metadata": {},
     "output_type": "execute_result"
    }
   ],
   "source": [
    "crime_data.borough.value_counts()"
   ]
  },
  {
   "cell_type": "code",
   "execution_count": 7,
   "metadata": {},
   "outputs": [
    {
     "data": {
      "text/plain": [
       "Theft and Handling             3966300\n",
       "Violence Against the Person    3171744\n",
       "Criminal Damage                2069172\n",
       "Drugs                          1179468\n",
       "Burglary                       1043604\n",
       "Robbery                         939384\n",
       "Other Notifiable Offences       776304\n",
       "Fraud or Forgery                236520\n",
       "Sexual Offences                 108108\n",
       "Name: major_category, dtype: int64"
      ]
     },
     "execution_count": 7,
     "metadata": {},
     "output_type": "execute_result"
    }
   ],
   "source": [
    "crime_data.major_category.value_counts()"
   ]
  },
  {
   "cell_type": "code",
   "execution_count": 8,
   "metadata": {},
   "outputs": [
    {
     "data": {
      "text/plain": [
       "Other Theft                               522180\n",
       "Theft From Motor Vehicle                  522180\n",
       "Common Assault                            522180\n",
       "Theft/Taking Of Motor Vehicle             522072\n",
       "Burglary in Other Buildings               522072\n",
       "Harassment                                522072\n",
       "Criminal Damage To Motor Vehicle          521964\n",
       "Assault with Injury                       521856\n",
       "Other Criminal Damage                     521856\n",
       "Possession Of Drugs                       521748\n",
       "Burglary in a Dwelling                    521532\n",
       "Criminal Damage To Dwelling               521424\n",
       "Personal Property                         520668\n",
       "Motor Vehicle Interference & Tampering    520452\n",
       "Other Notifiable                          519696\n",
       "Other Theft Person                        519480\n",
       "Wounding/GBH                              519372\n",
       "Theft/Taking of Pedal Cycle               516996\n",
       "Other violence                            512028\n",
       "Criminal Damage To Other Building         503928\n",
       "Drug Trafficking                          490536\n",
       "Offensive Weapon                          481896\n",
       "Handling Stolen Goods                     426168\n",
       "Business Property                         418716\n",
       "Theft From Shops                          416772\n",
       "Going Equipped                            256608\n",
       "Other Drugs                               167184\n",
       "Counted per Victim                        137916\n",
       "Other Fraud & Forgery                      98604\n",
       "Murder                                     92340\n",
       "Other Sexual                               81108\n",
       "Rape                                       27000\n",
       "Name: minor_category, dtype: int64"
      ]
     },
     "execution_count": 8,
     "metadata": {},
     "output_type": "execute_result"
    }
   ],
   "source": [
    "crime_data.minor_category.value_counts()"
   ]
  },
  {
   "cell_type": "code",
   "execution_count": 9,
   "metadata": {},
   "outputs": [
    {
     "data": {
      "text/plain": [
       "2016    1498956\n",
       "2015    1498956\n",
       "2014    1498956\n",
       "2013    1498956\n",
       "2012    1498956\n",
       "2011    1498956\n",
       "2010    1498956\n",
       "2009    1498956\n",
       "2008    1498956\n",
       "Name: year, dtype: int64"
      ]
     },
     "execution_count": 9,
     "metadata": {},
     "output_type": "execute_result"
    }
   ],
   "source": [
    "crime_data.year.value_counts()"
   ]
  }
 ],
 "metadata": {
  "kernelspec": {
   "display_name": "Python 3",
   "language": "python",
   "name": "python3"
  },
  "language_info": {
   "codemirror_mode": {
    "name": "ipython",
    "version": 3
   },
   "file_extension": ".py",
   "mimetype": "text/x-python",
   "name": "python",
   "nbconvert_exporter": "python",
   "pygments_lexer": "ipython3",
   "version": "3.6.3"
  }
 },
 "nbformat": 4,
 "nbformat_minor": 2
}
