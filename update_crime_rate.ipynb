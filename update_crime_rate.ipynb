{
 "cells": [
  {
   "cell_type": "markdown",
   "metadata": {},
   "source": [
    "# Basic Information \n",
    "Two datasets, one contains the recent 2 years data while another contains the data from 2014-2016 <br> common columns: Borough, Major Category, Minor Category<br> As the elements of 'Minor Category' are not the same, it's difficult to combine the two datasets."
   ]
  },
  {
   "cell_type": "code",
   "execution_count": 140,
   "metadata": {},
   "outputs": [],
   "source": [
    "import os\n",
    "import sys\n",
    "import pandas as pd\n",
    "import numpy as np"
   ]
  },
  {
   "cell_type": "code",
   "execution_count": 168,
   "metadata": {},
   "outputs": [],
   "source": [
    "recent = pd.read_csv('datasets/MPS Borough Level Crime (most recent 24 months).csv')\n",
    "past = pd.read_csv('datasets/MPS_Borough_Level_Crime_Historic.csv')"
   ]
  },
  {
   "cell_type": "code",
   "execution_count": 51,
   "metadata": {
    "scrolled": false
   },
   "outputs": [
    {
     "data": {
      "text/html": [
       "<div>\n",
       "<style scoped>\n",
       "    .dataframe tbody tr th:only-of-type {\n",
       "        vertical-align: middle;\n",
       "    }\n",
       "\n",
       "    .dataframe tbody tr th {\n",
       "        vertical-align: top;\n",
       "    }\n",
       "\n",
       "    .dataframe thead th {\n",
       "        text-align: right;\n",
       "    }\n",
       "</style>\n",
       "<table border=\"1\" class=\"dataframe\">\n",
       "  <thead>\n",
       "    <tr style=\"text-align: right;\">\n",
       "      <th></th>\n",
       "      <th>Borough</th>\n",
       "      <th>Major Category</th>\n",
       "      <th>Minor Category</th>\n",
       "      <th>201701</th>\n",
       "      <th>201702</th>\n",
       "      <th>201703</th>\n",
       "      <th>201704</th>\n",
       "      <th>201705</th>\n",
       "      <th>201706</th>\n",
       "      <th>201707</th>\n",
       "      <th>...</th>\n",
       "      <th>201803</th>\n",
       "      <th>201804</th>\n",
       "      <th>201805</th>\n",
       "      <th>201806</th>\n",
       "      <th>201807</th>\n",
       "      <th>201808</th>\n",
       "      <th>201809</th>\n",
       "      <th>201810</th>\n",
       "      <th>201811</th>\n",
       "      <th>201812</th>\n",
       "    </tr>\n",
       "  </thead>\n",
       "  <tbody>\n",
       "    <tr>\n",
       "      <th>0</th>\n",
       "      <td>Barking and Dagenham</td>\n",
       "      <td>Burglary</td>\n",
       "      <td>Burglary - Business and Community</td>\n",
       "      <td>25</td>\n",
       "      <td>47</td>\n",
       "      <td>44</td>\n",
       "      <td>32</td>\n",
       "      <td>29</td>\n",
       "      <td>19</td>\n",
       "      <td>42</td>\n",
       "      <td>...</td>\n",
       "      <td>38</td>\n",
       "      <td>36</td>\n",
       "      <td>24</td>\n",
       "      <td>33</td>\n",
       "      <td>30</td>\n",
       "      <td>18</td>\n",
       "      <td>33</td>\n",
       "      <td>32</td>\n",
       "      <td>39</td>\n",
       "      <td>34</td>\n",
       "    </tr>\n",
       "    <tr>\n",
       "      <th>1</th>\n",
       "      <td>Barking and Dagenham</td>\n",
       "      <td>Burglary</td>\n",
       "      <td>Burglary - Residential</td>\n",
       "      <td>118</td>\n",
       "      <td>124</td>\n",
       "      <td>93</td>\n",
       "      <td>101</td>\n",
       "      <td>129</td>\n",
       "      <td>71</td>\n",
       "      <td>95</td>\n",
       "      <td>...</td>\n",
       "      <td>122</td>\n",
       "      <td>75</td>\n",
       "      <td>93</td>\n",
       "      <td>77</td>\n",
       "      <td>93</td>\n",
       "      <td>84</td>\n",
       "      <td>99</td>\n",
       "      <td>94</td>\n",
       "      <td>106</td>\n",
       "      <td>163</td>\n",
       "    </tr>\n",
       "    <tr>\n",
       "      <th>2</th>\n",
       "      <td>Barking and Dagenham</td>\n",
       "      <td>Criminal Damage</td>\n",
       "      <td>Arson</td>\n",
       "      <td>5</td>\n",
       "      <td>5</td>\n",
       "      <td>2</td>\n",
       "      <td>13</td>\n",
       "      <td>6</td>\n",
       "      <td>14</td>\n",
       "      <td>2</td>\n",
       "      <td>...</td>\n",
       "      <td>6</td>\n",
       "      <td>3</td>\n",
       "      <td>4</td>\n",
       "      <td>12</td>\n",
       "      <td>6</td>\n",
       "      <td>5</td>\n",
       "      <td>3</td>\n",
       "      <td>8</td>\n",
       "      <td>6</td>\n",
       "      <td>1</td>\n",
       "    </tr>\n",
       "    <tr>\n",
       "      <th>3</th>\n",
       "      <td>Barking and Dagenham</td>\n",
       "      <td>Criminal Damage</td>\n",
       "      <td>Criminal Damage To M/V</td>\n",
       "      <td>65</td>\n",
       "      <td>62</td>\n",
       "      <td>61</td>\n",
       "      <td>61</td>\n",
       "      <td>71</td>\n",
       "      <td>59</td>\n",
       "      <td>66</td>\n",
       "      <td>...</td>\n",
       "      <td>53</td>\n",
       "      <td>64</td>\n",
       "      <td>64</td>\n",
       "      <td>67</td>\n",
       "      <td>69</td>\n",
       "      <td>42</td>\n",
       "      <td>38</td>\n",
       "      <td>42</td>\n",
       "      <td>47</td>\n",
       "      <td>34</td>\n",
       "    </tr>\n",
       "    <tr>\n",
       "      <th>4</th>\n",
       "      <td>Barking and Dagenham</td>\n",
       "      <td>Criminal Damage</td>\n",
       "      <td>Criminal Damage To Other Bldg</td>\n",
       "      <td>10</td>\n",
       "      <td>6</td>\n",
       "      <td>13</td>\n",
       "      <td>9</td>\n",
       "      <td>7</td>\n",
       "      <td>12</td>\n",
       "      <td>6</td>\n",
       "      <td>...</td>\n",
       "      <td>6</td>\n",
       "      <td>9</td>\n",
       "      <td>8</td>\n",
       "      <td>8</td>\n",
       "      <td>7</td>\n",
       "      <td>7</td>\n",
       "      <td>11</td>\n",
       "      <td>5</td>\n",
       "      <td>4</td>\n",
       "      <td>7</td>\n",
       "    </tr>\n",
       "  </tbody>\n",
       "</table>\n",
       "<p>5 rows × 27 columns</p>\n",
       "</div>"
      ],
      "text/plain": [
       "                Borough   Major Category                     Minor Category  \\\n",
       "0  Barking and Dagenham         Burglary  Burglary - Business and Community   \n",
       "1  Barking and Dagenham         Burglary             Burglary - Residential   \n",
       "2  Barking and Dagenham  Criminal Damage                              Arson   \n",
       "3  Barking and Dagenham  Criminal Damage             Criminal Damage To M/V   \n",
       "4  Barking and Dagenham  Criminal Damage      Criminal Damage To Other Bldg   \n",
       "\n",
       "   201701  201702  201703  201704  201705  201706  201707   ...    201803  \\\n",
       "0      25      47      44      32      29      19      42   ...        38   \n",
       "1     118     124      93     101     129      71      95   ...       122   \n",
       "2       5       5       2      13       6      14       2   ...         6   \n",
       "3      65      62      61      61      71      59      66   ...        53   \n",
       "4      10       6      13       9       7      12       6   ...         6   \n",
       "\n",
       "   201804  201805  201806  201807  201808  201809  201810  201811  201812  \n",
       "0      36      24      33      30      18      33      32      39      34  \n",
       "1      75      93      77      93      84      99      94     106     163  \n",
       "2       3       4      12       6       5       3       8       6       1  \n",
       "3      64      64      67      69      42      38      42      47      34  \n",
       "4       9       8       8       7       7      11       5       4       7  \n",
       "\n",
       "[5 rows x 27 columns]"
      ]
     },
     "execution_count": 51,
     "metadata": {},
     "output_type": "execute_result"
    }
   ],
   "source": [
    "recent.head()"
   ]
  },
  {
   "cell_type": "code",
   "execution_count": 158,
   "metadata": {},
   "outputs": [
    {
     "data": {
      "text/html": [
       "<div>\n",
       "<style scoped>\n",
       "    .dataframe tbody tr th:only-of-type {\n",
       "        vertical-align: middle;\n",
       "    }\n",
       "\n",
       "    .dataframe tbody tr th {\n",
       "        vertical-align: top;\n",
       "    }\n",
       "\n",
       "    .dataframe thead th {\n",
       "        text-align: right;\n",
       "    }\n",
       "</style>\n",
       "<table border=\"1\" class=\"dataframe\">\n",
       "  <thead>\n",
       "    <tr style=\"text-align: right;\">\n",
       "      <th></th>\n",
       "      <th>Borough</th>\n",
       "      <th>Major Category</th>\n",
       "      <th>Minor Category</th>\n",
       "      <th>200801</th>\n",
       "      <th>200802</th>\n",
       "      <th>200803</th>\n",
       "      <th>200804</th>\n",
       "      <th>200805</th>\n",
       "      <th>200806</th>\n",
       "      <th>200807</th>\n",
       "      <th>...</th>\n",
       "      <th>201603</th>\n",
       "      <th>201604</th>\n",
       "      <th>201605</th>\n",
       "      <th>201606</th>\n",
       "      <th>201607</th>\n",
       "      <th>201608</th>\n",
       "      <th>201609</th>\n",
       "      <th>201610</th>\n",
       "      <th>201611</th>\n",
       "      <th>201612</th>\n",
       "    </tr>\n",
       "  </thead>\n",
       "  <tbody>\n",
       "    <tr>\n",
       "      <th>0</th>\n",
       "      <td>Barking and Dagenham</td>\n",
       "      <td>Burglary</td>\n",
       "      <td>Burglary in a Dwelling</td>\n",
       "      <td>82</td>\n",
       "      <td>71</td>\n",
       "      <td>87</td>\n",
       "      <td>74</td>\n",
       "      <td>74</td>\n",
       "      <td>103</td>\n",
       "      <td>113</td>\n",
       "      <td>...</td>\n",
       "      <td>73</td>\n",
       "      <td>47</td>\n",
       "      <td>77</td>\n",
       "      <td>63</td>\n",
       "      <td>55</td>\n",
       "      <td>54</td>\n",
       "      <td>49</td>\n",
       "      <td>60</td>\n",
       "      <td>73</td>\n",
       "      <td>100</td>\n",
       "    </tr>\n",
       "    <tr>\n",
       "      <th>1</th>\n",
       "      <td>Barking and Dagenham</td>\n",
       "      <td>Burglary</td>\n",
       "      <td>Burglary in Other Buildings</td>\n",
       "      <td>59</td>\n",
       "      <td>68</td>\n",
       "      <td>56</td>\n",
       "      <td>53</td>\n",
       "      <td>57</td>\n",
       "      <td>39</td>\n",
       "      <td>44</td>\n",
       "      <td>...</td>\n",
       "      <td>32</td>\n",
       "      <td>42</td>\n",
       "      <td>42</td>\n",
       "      <td>47</td>\n",
       "      <td>32</td>\n",
       "      <td>33</td>\n",
       "      <td>45</td>\n",
       "      <td>40</td>\n",
       "      <td>24</td>\n",
       "      <td>19</td>\n",
       "    </tr>\n",
       "    <tr>\n",
       "      <th>2</th>\n",
       "      <td>Barking and Dagenham</td>\n",
       "      <td>Criminal Damage</td>\n",
       "      <td>Criminal Damage To Dwelling</td>\n",
       "      <td>79</td>\n",
       "      <td>52</td>\n",
       "      <td>55</td>\n",
       "      <td>73</td>\n",
       "      <td>63</td>\n",
       "      <td>80</td>\n",
       "      <td>73</td>\n",
       "      <td>...</td>\n",
       "      <td>50</td>\n",
       "      <td>36</td>\n",
       "      <td>58</td>\n",
       "      <td>30</td>\n",
       "      <td>48</td>\n",
       "      <td>38</td>\n",
       "      <td>31</td>\n",
       "      <td>29</td>\n",
       "      <td>32</td>\n",
       "      <td>26</td>\n",
       "    </tr>\n",
       "    <tr>\n",
       "      <th>3</th>\n",
       "      <td>Barking and Dagenham</td>\n",
       "      <td>Criminal Damage</td>\n",
       "      <td>Criminal Damage To Motor Vehicle</td>\n",
       "      <td>142</td>\n",
       "      <td>138</td>\n",
       "      <td>118</td>\n",
       "      <td>158</td>\n",
       "      <td>126</td>\n",
       "      <td>96</td>\n",
       "      <td>116</td>\n",
       "      <td>...</td>\n",
       "      <td>73</td>\n",
       "      <td>61</td>\n",
       "      <td>81</td>\n",
       "      <td>73</td>\n",
       "      <td>69</td>\n",
       "      <td>68</td>\n",
       "      <td>61</td>\n",
       "      <td>69</td>\n",
       "      <td>67</td>\n",
       "      <td>59</td>\n",
       "    </tr>\n",
       "    <tr>\n",
       "      <th>4</th>\n",
       "      <td>Barking and Dagenham</td>\n",
       "      <td>Criminal Damage</td>\n",
       "      <td>Criminal Damage To Other Building</td>\n",
       "      <td>20</td>\n",
       "      <td>19</td>\n",
       "      <td>20</td>\n",
       "      <td>23</td>\n",
       "      <td>16</td>\n",
       "      <td>12</td>\n",
       "      <td>17</td>\n",
       "      <td>...</td>\n",
       "      <td>21</td>\n",
       "      <td>13</td>\n",
       "      <td>13</td>\n",
       "      <td>18</td>\n",
       "      <td>15</td>\n",
       "      <td>16</td>\n",
       "      <td>11</td>\n",
       "      <td>12</td>\n",
       "      <td>16</td>\n",
       "      <td>8</td>\n",
       "    </tr>\n",
       "  </tbody>\n",
       "</table>\n",
       "<p>5 rows × 111 columns</p>\n",
       "</div>"
      ],
      "text/plain": [
       "                Borough   Major Category                     Minor Category  \\\n",
       "0  Barking and Dagenham         Burglary             Burglary in a Dwelling   \n",
       "1  Barking and Dagenham         Burglary        Burglary in Other Buildings   \n",
       "2  Barking and Dagenham  Criminal Damage        Criminal Damage To Dwelling   \n",
       "3  Barking and Dagenham  Criminal Damage   Criminal Damage To Motor Vehicle   \n",
       "4  Barking and Dagenham  Criminal Damage  Criminal Damage To Other Building   \n",
       "\n",
       "   200801  200802  200803  200804  200805  200806  200807   ...    201603  \\\n",
       "0      82      71      87      74      74     103     113   ...        73   \n",
       "1      59      68      56      53      57      39      44   ...        32   \n",
       "2      79      52      55      73      63      80      73   ...        50   \n",
       "3     142     138     118     158     126      96     116   ...        73   \n",
       "4      20      19      20      23      16      12      17   ...        21   \n",
       "\n",
       "   201604  201605  201606  201607  201608  201609  201610  201611  201612  \n",
       "0      47      77      63      55      54      49      60      73     100  \n",
       "1      42      42      47      32      33      45      40      24      19  \n",
       "2      36      58      30      48      38      31      29      32      26  \n",
       "3      61      81      73      69      68      61      69      67      59  \n",
       "4      13      13      18      15      16      11      12      16       8  \n",
       "\n",
       "[5 rows x 111 columns]"
      ]
     },
     "execution_count": 158,
     "metadata": {},
     "output_type": "execute_result"
    }
   ],
   "source": [
    "past.head()"
   ]
  },
  {
   "cell_type": "code",
   "execution_count": 159,
   "metadata": {},
   "outputs": [
    {
     "name": "stdout",
     "output_type": "stream",
     "text": [
      "(1050, 27)\n",
      "(1056, 39)\n"
     ]
    }
   ],
   "source": [
    "print(recent.shape)\n",
    "print(history.shape)"
   ]
  },
  {
   "cell_type": "markdown",
   "metadata": {},
   "source": [
    "## Delete the rows where 'Borough' is 'London Heathrow and London City Airports' as it doesn't exist in the past data"
   ]
  },
  {
   "cell_type": "code",
   "execution_count": 160,
   "metadata": {
    "scrolled": true
   },
   "outputs": [],
   "source": [
    "recent = recent.drop(recent[recent.Borough=='London Heathrow and London City Airports'].index)"
   ]
  },
  {
   "cell_type": "markdown",
   "metadata": {},
   "source": [
    "## Delete the data from 2008-2014 from the past data "
   ]
  },
  {
   "cell_type": "code",
   "execution_count": 169,
   "metadata": {},
   "outputs": [],
   "source": [
    "past = past.drop(past.columns[3:75], axis=1)"
   ]
  },
  {
   "cell_type": "code",
   "execution_count": 296,
   "metadata": {},
   "outputs": [],
   "source": [
    "recent.to_csv('datasets/recent.csv', index=False)"
   ]
  },
  {
   "cell_type": "code",
   "execution_count": 297,
   "metadata": {},
   "outputs": [],
   "source": [
    "past.to_csv('datasets/past.csv', index = False)"
   ]
  },
  {
   "cell_type": "markdown",
   "metadata": {},
   "source": [
    "## Statistical information"
   ]
  },
  {
   "cell_type": "code",
   "execution_count": 181,
   "metadata": {},
   "outputs": [
    {
     "data": {
      "text/plain": [
       "array(['Barking and Dagenham', 'Barnet', 'Bexley', 'Brent', 'Bromley',\n",
       "       'Camden', 'Croydon', 'Ealing', 'Enfield', 'Greenwich', 'Hackney',\n",
       "       'Hammersmith and Fulham', 'Haringey', 'Harrow', 'Havering',\n",
       "       'Hillingdon', 'Hounslow', 'Islington', 'Kensington and Chelsea',\n",
       "       'Kingston upon Thames', 'Lambeth', 'Lewisham',\n",
       "       'London Heathrow and London City Airports', 'Merton', 'Newham',\n",
       "       'Redbridge', 'Richmond upon Thames', 'Southwark', 'Sutton',\n",
       "       'Tower Hamlets', 'Waltham Forest', 'Wandsworth', 'Westminster'],\n",
       "      dtype=object)"
      ]
     },
     "execution_count": 181,
     "metadata": {},
     "output_type": "execute_result"
    }
   ],
   "source": [
    "recent_borough = recent.Borough.unique()"
   ]
  },
  {
   "cell_type": "code",
   "execution_count": 184,
   "metadata": {},
   "outputs": [
    {
     "data": {
      "text/plain": [
       "Index(['Borough', 'Major Category', 'Minor Category', '201401', '201402',\n",
       "       '201403', '201404', '201405', '201406', '201407', '201408', '201409',\n",
       "       '201410', '201411', '201412', '201501', '201502', '201503', '201504',\n",
       "       '201505', '201506', '201507', '201508', '201509', '201510', '201511',\n",
       "       '201512', '201601', '201602', '201603', '201604', '201605', '201606',\n",
       "       '201607', '201608', '201609', '201610', '201611', '201612'],\n",
       "      dtype='object')"
      ]
     },
     "execution_count": 184,
     "metadata": {},
     "output_type": "execute_result"
    }
   ],
   "source": [
    "past.columns"
   ]
  },
  {
   "cell_type": "code",
   "execution_count": 185,
   "metadata": {},
   "outputs": [
    {
     "data": {
      "text/plain": [
       "Index(['Borough', 'Major Category', 'Minor Category', '201701', '201702',\n",
       "       '201703', '201704', '201705', '201706', '201707', '201708', '201709',\n",
       "       '201710', '201711', '201712', '201801', '201802', '201803', '201804',\n",
       "       '201805', '201806', '201807', '201808', '201809', '201810', '201811',\n",
       "       '201812'],\n",
       "      dtype='object')"
      ]
     },
     "execution_count": 185,
     "metadata": {},
     "output_type": "execute_result"
    }
   ],
   "source": [
    "recent.columns"
   ]
  },
  {
   "cell_type": "code",
   "execution_count": 217,
   "metadata": {},
   "outputs": [
    {
     "data": {
      "text/plain": [
       "array(['Burglary in a Dwelling', 'Burglary in Other Buildings',\n",
       "       'Criminal Damage To Dwelling', 'Criminal Damage To Motor Vehicle',\n",
       "       'Criminal Damage To Other Building', 'Other Criminal Damage',\n",
       "       'Drug Trafficking', 'Other Drugs', 'Possession Of Drugs',\n",
       "       'Counted per Victim', 'Other Fraud & Forgery', 'Going Equipped',\n",
       "       'Other Notifiable', 'Business Property', 'Personal Property',\n",
       "       'Other Sexual', 'Rape', 'Handling Stolen Goods',\n",
       "       'Motor Vehicle Interference & Tampering', 'Other Theft',\n",
       "       'Other Theft Person', 'Theft From Motor Vehicle',\n",
       "       'Theft From Shops', 'Theft/Taking Of Motor Vehicle',\n",
       "       'Theft/Taking of Pedal Cycle', 'Assault with Injury',\n",
       "       'Common Assault', 'Grievous Bodily Harm', 'Harassment', 'Murder',\n",
       "       'Offensive Weapon', 'Other violence', 'Wounding/GBH'], dtype=object)"
      ]
     },
     "execution_count": 217,
     "metadata": {},
     "output_type": "execute_result"
    }
   ],
   "source": [
    "pd.unique(past['Minor Category'])"
   ]
  },
  {
   "cell_type": "code",
   "execution_count": 218,
   "metadata": {},
   "outputs": [
    {
     "data": {
      "text/plain": [
       "array(['Burglary - Business and Community', 'Burglary - Residential',\n",
       "       'Arson', 'Criminal Damage To M/V', 'Criminal Damage To Other Bldg',\n",
       "       'Criminal Damage To a Dwelling', 'Other Criminal Damage',\n",
       "       'Drug Trafficking', 'Other Drug Offences', 'Possession Of Drugs',\n",
       "       'Other Fraud & Forgery', 'Going Equipped', 'Other Notifiable',\n",
       "       'Business Property', 'Personal Property', 'Other Sexual', 'Rape',\n",
       "       'Handling Stolen Goods', 'M/V Interference & Tampering',\n",
       "       'Other Theft', 'Theft From M/V', 'Theft From Shops',\n",
       "       'Theft Person', 'Theft/Taking of M/V',\n",
       "       'Theft/Taking of Pedal Cycles', 'Assault with Injury',\n",
       "       'Common Assault', 'Harassment', 'Murder', 'Offensive Weapon',\n",
       "       'Other Violence', 'Wounding/GBH', 'Counted per Victim'],\n",
       "      dtype=object)"
      ]
     },
     "execution_count": 218,
     "metadata": {},
     "output_type": "execute_result"
    }
   ],
   "source": [
    "pd.unique(recent['Minor Category'])"
   ]
  }
 ],
 "metadata": {
  "kernelspec": {
   "display_name": "Python 3",
   "language": "python",
   "name": "python3"
  },
  "language_info": {
   "codemirror_mode": {
    "name": "ipython",
    "version": 3
   },
   "file_extension": ".py",
   "mimetype": "text/x-python",
   "name": "python",
   "nbconvert_exporter": "python",
   "pygments_lexer": "ipython3",
   "version": "3.6.8"
  }
 },
 "nbformat": 4,
 "nbformat_minor": 2
}
